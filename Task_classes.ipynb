{
  "nbformat": 4,
  "nbformat_minor": 0,
  "metadata": {
    "colab": {
      "provenance": [],
      "authorship_tag": "ABX9TyNBslBfs21HJMu0DgFTd4F0",
      "include_colab_link": true
    },
    "kernelspec": {
      "name": "python3",
      "display_name": "Python 3"
    },
    "language_info": {
      "name": "python"
    }
  },
  "cells": [
    {
      "cell_type": "markdown",
      "metadata": {
        "id": "view-in-github",
        "colab_type": "text"
      },
      "source": [
        "<a href=\"https://colab.research.google.com/github/usman-codez/Classes_Task/blob/main/Task_classes.ipynb\" target=\"_parent\"><img src=\"https://colab.research.google.com/assets/colab-badge.svg\" alt=\"Open In Colab\"/></a>"
      ]
    },
    {
      "cell_type": "code",
      "execution_count": null,
      "metadata": {
        "colab": {
          "base_uri": "https://localhost:8080/"
        },
        "id": "q9Q9o7oj43hZ",
        "outputId": "c5c521e6-e8c3-496e-da70-9b6a060cbe9a"
      },
      "outputs": [
        {
          "output_type": "stream",
          "name": "stdout",
          "text": [
            "Enter how many grades you want: 3\n",
            "Enter the grade: 90\n",
            "Enter the grade: 87\n",
            "Enter the grade: 88\n",
            "[90, 87, 88]\n",
            "Average grade: 88.33333333333333\n",
            "True\n"
          ]
        }
      ],
      "source": [
        "class Student:\n",
        "  name='Ali'\n",
        "  grades=[]\n",
        "\n",
        "def main():\n",
        "  def add():\n",
        "    x=Student()\n",
        "    n=int(input('Enter how many grades you want: '))\n",
        "    for i in range(n):\n",
        "      grade=int(input('Enter the grade: '))\n",
        "      x.grades.append(grade)\n",
        "    print(x.grades)\n",
        "  add()\n",
        "\n",
        "  def avg_grade():\n",
        "    x=Student()\n",
        "    if x.grades:\n",
        "      avg=sum(x.grades)/len(x.grades)\n",
        "      print(\"Average grade:\", avg)\n",
        "      return avg\n",
        "    else:\n",
        "      print(\"No grades entered.\")\n",
        "      return 0\n",
        "\n",
        "  avg=avg_grade()\n",
        "  def is_passing():\n",
        "    x=Student()\n",
        "    if avg>=60:\n",
        "      print(True)\n",
        "    else:\n",
        "      print(False)\n",
        "  is_passing()\n",
        "\n",
        "  def dataentry():\n",
        "    x=Student()\n",
        "    f=open('grades','a')\n",
        "    f.write(str(x.grades))\n",
        "    f.close()\n",
        "\n",
        "  dataentry()\n",
        "main()"
      ]
    },
    {
      "cell_type": "code",
      "source": [
        "class BankAccount:\n",
        "  account_number='123456789'\n",
        "  balance=786.54\n",
        "\n",
        "def main():\n",
        "  x=BankAccount()\n",
        "  def deposit():\n",
        "    n=int(input('Enter the how many time you want to add amount: '))\n",
        "    for i in range(n):\n",
        "      amount=int(input('Enter the amount: '))\n",
        "      x.balance+=amount\n",
        "\n",
        "    print('New balance:',x.balance)\n",
        "  deposit()\n",
        "\n",
        "  def withdraw():\n",
        "    amount=float(input('Enter how much money you want to withdraw: '))\n",
        "    if amount<=x.balance:\n",
        "      x.balance-=amount\n",
        "    else:\n",
        "      print('Insufficient funds')\n",
        "\n",
        "  withdraw()\n",
        "\n",
        "  def get_balance():\n",
        "    print('Balance:',x.balance)\n",
        "  get_balance()\n",
        "\n",
        "  def dataentry():\n",
        "    f=open('x','a')\n",
        "    f.write(str(x.balance))\n",
        "    f.close()\n",
        "\n",
        "  dataentry()\n",
        "\n",
        "main()"
      ],
      "metadata": {
        "colab": {
          "base_uri": "https://localhost:8080/"
        },
        "id": "1JfxgQ5q5IdL",
        "outputId": "83f045ee-a800-4838-9b7c-fa86489890f6"
      },
      "execution_count": null,
      "outputs": [
        {
          "output_type": "stream",
          "name": "stdout",
          "text": [
            "Enter the how many time you want to add amount: 1\n",
            "Enter the amount: 2452\n",
            "New balance: 3238.54\n",
            "Enter how much money you want to withdraw: 445\n",
            "Balance: 2793.54\n"
          ]
        }
      ]
    },
    {
      "cell_type": "code",
      "source": [
        "class Book:\n",
        "  title='Atomic Habits'\n",
        "  author='James Clear'\n",
        "  pages=124\n",
        "\n",
        "def main():\n",
        "  x=Book()\n",
        "\n",
        "  def read_page():\n",
        "    n=int(input('Enter the page you want to read: '))\n",
        "    if n<=x.pages:\n",
        "      print('You are reading the text on page',n)\n",
        "    else:\n",
        "      print('Page not found')\n",
        "\n",
        "  read_page()\n",
        "\n",
        "  def add_page():\n",
        "    m=int(input('Enter the number of pages you want to add: '))\n",
        "    x.pages+=m\n",
        "    print('New number of pages:',x.pages)\n",
        "    text=input('Enter the text: ')\n",
        "    f=open('text','a')\n",
        "    f.write(text)\n",
        "    f.close()\n",
        "\n",
        "  add_page()\n",
        "\n",
        "  def dataentry():\n",
        "    f=open('x','a')\n",
        "    f.write(str(x.pages))\n",
        "    f.close()\n",
        "\n",
        "  dataentry()\n",
        "\n",
        "main()"
      ],
      "metadata": {
        "colab": {
          "base_uri": "https://localhost:8080/"
        },
        "id": "gVs56NL4-XKa",
        "outputId": "c97d6d22-6476-4fba-d039-02747dce3ad7"
      },
      "execution_count": null,
      "outputs": [
        {
          "name": "stdout",
          "output_type": "stream",
          "text": [
            "Enter the page you want to read: 23\n",
            "You are reading the text on page 23\n",
            "Enter the number of pages you want to add: 1\n",
            "New number of pages: 125\n",
            "Enter the text: ali is hwrw\n"
          ]
        }
      ]
    },
    {
      "cell_type": "code",
      "source": [
        "class Employee:\n",
        "  name='Ahmad'\n",
        "  salary=25.6\n",
        "  department='IT'\n",
        "\n",
        "def main():\n",
        "  y=Employee()\n",
        "\n",
        "  def give_raise():\n",
        "    n=int(input('Enter the percentage of raise: '))\n",
        "    y.salary+=y.salary*(n/100)\n",
        "\n",
        "  give_raise()\n",
        "\n",
        "  def get_salary():\n",
        "    print('Get your new salary:',y.salary)\n",
        "\n",
        "  get_salary()\n",
        "\n",
        "  def department():\n",
        "    print('Current Department',y.department)\n",
        "\n",
        "  department()\n",
        "\n",
        "  def dataentry():\n",
        "    f=open('y','a')\n",
        "    f.write(str(y.salary))\n",
        "    f.write(str(y.name))\n",
        "    f.write(str(y.department))\n",
        "    f.close()\n",
        "\n",
        "  dataentry()\n",
        "\n",
        "main()\n"
      ],
      "metadata": {
        "colab": {
          "base_uri": "https://localhost:8080/"
        },
        "id": "wW25CU0bCNyL",
        "outputId": "38053aa2-c3b4-4c87-afe7-441a0a492017"
      },
      "execution_count": null,
      "outputs": [
        {
          "output_type": "stream",
          "name": "stdout",
          "text": [
            "Enter the percentage of raise: 23\n",
            "Get your new salary: 31.488000000000003\n",
            "Current Department IT\n"
          ]
        }
      ]
    },
    {
      "cell_type": "code",
      "source": [
        "class FileManager:\n",
        "    file_name='file.txt'\n",
        "\n",
        "def main():\n",
        "  z=FileManager()\n",
        "\n",
        "  def write_to_file():\n",
        "    text=input('Enter the text you want to enter: ')\n",
        "    s=open('z','a')\n",
        "    s.write(text)\n",
        "    s.close()\n",
        "\n",
        "  write_to_file()\n",
        "\n",
        "  def read_from_file():\n",
        "    f=open('z','a')\n",
        "    f.write(str(z.file_name))\n",
        "    f.close()\n",
        "\n",
        "  read_from_file()\n",
        "\n",
        "  def delete_from_file():\n",
        "    if z.file_name:\n",
        "      z.file_name=None\n",
        "      print('File is deleted')\n",
        "    else:\n",
        "      print('File is empty')\n",
        "\n",
        "  delete_from_file()\n",
        "\n",
        "  def dataentry():\n",
        "    f=open('z','a')\n",
        "    f.write('\\n'+str(z.file_name))\n",
        "    f.close()\n",
        "\n",
        "  dataentry()\n",
        "\n",
        "main()\n"
      ],
      "metadata": {
        "colab": {
          "base_uri": "https://localhost:8080/"
        },
        "id": "9ZKUJ_RDEHEq",
        "outputId": "b78288f7-a769-4f96-94b0-c247c5c439cf"
      },
      "execution_count": null,
      "outputs": [
        {
          "output_type": "stream",
          "name": "stdout",
          "text": [
            "Enter the text you want to enter: alialia\n",
            "File is deleted\n"
          ]
        }
      ]
    },
    {
      "cell_type": "code",
      "source": [],
      "metadata": {
        "id": "1zYTb2qQHuZ0"
      },
      "execution_count": null,
      "outputs": []
    },
    {
      "cell_type": "code",
      "source": [
        "\n",
        "\n",
        "\n",
        "def main():\n",
        "\n",
        "\n",
        "\n",
        "  lst=[]\n",
        "  tple=()\n",
        "  dic={}\n",
        "  print(\"Enter 'a' for list\")\n",
        "  print(\"Enter 'b' for tuple\")\n",
        "  print(\"Enter 'c' for dictionary\")\n",
        "  choice=input('Enter The data structure you want: ')\n",
        "\n",
        "  print('----------------------------------------------------')\n",
        "  print(\"Enter 'append' for append\")\n",
        "  print(\"Enter 'delete' for delete\")\n",
        "  print(\"Enter 'length' for length\")\n",
        "  print('----------------------------------------------------')\n",
        "\n",
        "\n",
        "\n",
        "  #For Append\n",
        "  if choice=='a':\n",
        "    opration_choice=input('Enter the opration you want to perform: ')\n",
        "    if opration_choice=='append':\n",
        "      n=int(input('Enter how many data you want to enter: '))\n",
        "      for i in range(n):\n",
        "        lst.append(input('Enter the data: '))\n",
        "      print(lst)\n",
        "\n",
        "    #For deleting entry\n",
        "    elif opration_choice=='delete':\n",
        "      index=int(input('Enter the index you want to delete: '))\n",
        "      filename=input('Enter the filename: ')\n",
        "      filename=open(filename,'r')\n",
        "      data=filename.read()\n",
        "      lst.pop(index)\n",
        "      filename=open(filename,'w')\n",
        "      f.write(str(lst))\n",
        "      print(lst)\n",
        "\n",
        "    #For Length\n",
        "    elif opration_choice=='length':\n",
        "      print('Length of the list is:',len(lst))\n",
        "\n",
        "    else:\n",
        "      print(main())\n",
        "\n",
        "  #For Append\n",
        "  elif choice=='b':\n",
        "    opration_choice=input('Enter the opration you want to perform: ')\n",
        "    if opration_choice=='append':\n",
        "      n=int(input('Enter how many data you want to enter: '))\n",
        "      for i in range(n):\n",
        "        tple=tple + (input('Enter the data: '),)\n",
        "      print(tple)\n",
        "\n",
        "    #For deleting entry\n",
        "    elif opration_choice=='delete':\n",
        "      index=int(input('Enter the index you want to delete: '))\n",
        "      f=open('data.txt','r')\n",
        "      data=f.read()\n",
        "      lst.pop(index)\n",
        "      f=open('data.txt','w')\n",
        "      f.write(str(lst))\n",
        "      print(lst)\n",
        "\n",
        "    #For Length\n",
        "    elif opration_choice=='length':\n",
        "      print('Length of the tuple is:',len(tple))\n",
        "\n",
        "    else:\n",
        "      print(main())\n",
        "\n",
        "  #For Append\n",
        "  elif choice=='c':\n",
        "    opration_choice=input('Enter the opration you want to perform: ')\n",
        "    if opration_choice=='append':\n",
        "      n=int(input('Enter how many data you want to enter: '))\n",
        "      for i in range(n):\n",
        "        dic[input('Enter the key: ')]=input('Enter the value: ')\n",
        "      print(dic)\n",
        "    #For deleting entry\n",
        "    elif opration_choice=='delete':\n",
        "      key=input('Enter the key you want to delete: ')\n",
        "      del(dic[key])\n",
        "      print(dic)\n",
        "\n",
        "    #For Length\n",
        "    elif opration_choice=='length':\n",
        "      print('Length of the dictionary is:',len(dic))\n",
        "\n",
        "    else:\n",
        "      print(main())\n",
        "\n",
        "  else:\n",
        "    print('Invalid choice')\n",
        "\n",
        "  dataentry(lst,tple,dic)\n",
        "\n",
        "def dataentry(lst,tple,dic):\n",
        "  with open('data.txt', 'a') as f:\n",
        "    f.write('\\n' + str(lst))\n",
        "    f.write('\\n' + str(tple))\n",
        "    f.write('\\n' + str(dic))\n",
        "\n",
        "main()"
      ],
      "metadata": {
        "colab": {
          "base_uri": "https://localhost:8080/"
        },
        "id": "ZT12Z5qjryHF",
        "outputId": "463bf971-bb2b-4d82-e371-caccebbc8969"
      },
      "execution_count": null,
      "outputs": [
        {
          "output_type": "stream",
          "name": "stdout",
          "text": [
            "Enter 'a' for list\n",
            "Enter 'b' for tuple\n",
            "Enter 'c' for dictionary\n",
            "Enter The data structure you want: c\n",
            "----------------------------------------------------\n",
            "Enter 'append' for append\n",
            "Enter 'delete' for delete\n",
            "Enter 'length' for length\n",
            "----------------------------------------------------\n",
            "Enter the opration you want to perform: append\n",
            "Enter how many data you want to enter: 2\n",
            "Enter the value: ali\n",
            "Enter the key: Name\n",
            "Enter the value: 1009\n",
            "Enter the key: Roll\n",
            "{'Name': 'ali', 'Roll': '1009'}\n"
          ]
        }
      ]
    },
    {
      "cell_type": "code",
      "source": [
        "def main():\n",
        "    lst = []\n",
        "    tple = ()\n",
        "    dic = {}\n",
        "\n",
        "    print(\"Enter 'a' for list\")\n",
        "    print(\"Enter 'b' for tuple\")\n",
        "    print(\"Enter 'c' for dictionary\")\n",
        "    choice = input('Enter the data structure you want: ')\n",
        "\n",
        "    print('----------------------------------------------------')\n",
        "    print(\"Enter 'append' for append\")\n",
        "    print(\"Enter 'delete' for delete\")\n",
        "    print(\"Enter 'length' for length\")\n",
        "    print('----------------------------------------------------')\n",
        "\n",
        "    if choice == 'a':\n",
        "        operation_choice = input('Enter the operation you want to perform: ')\n",
        "        if operation_choice == 'append':\n",
        "            n = int(input('Enter how many data you want to enter: '))\n",
        "            for i in range(n):\n",
        "                lst.append(input('Enter the data: '))\n",
        "            print(lst)\n",
        "\n",
        "        elif operation_choice == 'delete':\n",
        "            index = int(input('Enter the index you want to delete: '))\n",
        "            with open('data.txt', 'r') as f:\n",
        "                lines = f.readlines()\n",
        "                lst = eval(lines[0].strip())  # Convert the first line back to a list\n",
        "            lst.pop(index)\n",
        "            with open('data.txt', 'w') as f:\n",
        "                f.write(str(lst) + '\\n' + lines[1] + lines[2])\n",
        "            print(lst)\n",
        "\n",
        "        elif operation_choice == 'length':\n",
        "            print('Length of the list is:', len(lst))\n",
        "\n",
        "        else:\n",
        "            main()\n",
        "\n",
        "    elif choice == 'b':\n",
        "        operation_choice = input('Enter the operation you want to perform: ')\n",
        "        if operation_choice == 'append':\n",
        "            n = int(input('Enter how many data you want to enter: '))\n",
        "            for i in range(n):\n",
        "                tple = tple + (input('Enter the data: '),)\n",
        "            print(tple)\n",
        "\n",
        "        elif operation_choice == 'delete':\n",
        "            index = int(input('Enter the index you want to delete: '))\n",
        "            with open('data.txt', 'r') as f:\n",
        "                lines = f.readlines()\n",
        "                tple = eval(lines[1].strip())  # Convert the second line back to a tuple\n",
        "            tple = tple[:index] + tple[index+1:]  # Remove the element at the specified index\n",
        "            with open('data.txt', 'w') as f:\n",
        "                f.write(lines[0] + str(tple) + '\\n' + lines[2])\n",
        "            print(tple)\n",
        "\n",
        "        elif operation_choice == 'length':\n",
        "            print('Length of the tuple is:', len(tple))\n",
        "\n",
        "        else:\n",
        "            main()\n",
        "\n",
        "    elif choice == 'c':\n",
        "        operation_choice = input('Enter the operation you want to perform: ')\n",
        "        if operation_choice == 'append':\n",
        "            n = int(input('Enter how many data you want to enter: '))\n",
        "            for i in range(n):\n",
        "                dic[input('Enter the key: ')] = input('Enter the value: ')\n",
        "            print(dic)\n",
        "\n",
        "        elif operation_choice == 'delete':\n",
        "            key = input('Enter the key you want to delete: ')\n",
        "            with open('data.txt', 'r') as f:\n",
        "                lines = f.readlines()\n",
        "                dic = eval(lines[2].strip())  # Convert the third line back to a dictionary\n",
        "            del dic[key]\n",
        "            with open('data.txt', 'w') as f:\n",
        "                f.write(lines[0] + lines[1] + str(dic) + '\\n')\n",
        "            print(dic)\n",
        "\n",
        "        elif operation_choice == 'length':\n",
        "            print('Length of the dictionary is:', len(dic))\n",
        "\n",
        "        else:\n",
        "            main()\n",
        "\n",
        "    else:\n",
        "        print('Invalid choice')\n",
        "\n",
        "    dataentry(lst, tple, dic)\n",
        "\n",
        "\n",
        "def dataentry(lst, tple, dic):\n",
        "    with open('data.txt', 'w') as f:  # Use 'w' to overwrite the file each time\n",
        "        f.write(str(lst) + '\\n')\n",
        "        f.write(str(tple) + '\\n')\n",
        "        f.write(str(dic) + '\\n')\n",
        "\n",
        "\n",
        "main()\n"
      ],
      "metadata": {
        "colab": {
          "base_uri": "https://localhost:8080/"
        },
        "id": "1-Kpmisqzo0g",
        "outputId": "67eb91db-c319-4130-e51a-ed7484761642"
      },
      "execution_count": null,
      "outputs": [
        {
          "output_type": "stream",
          "name": "stdout",
          "text": [
            "Enter 'a' for list\n",
            "Enter 'b' for tuple\n",
            "Enter 'c' for dictionary\n",
            "Enter the data structure you want: a\n",
            "----------------------------------------------------\n",
            "Enter 'append' for append\n",
            "Enter 'delete' for delete\n",
            "Enter 'length' for length\n",
            "----------------------------------------------------\n",
            "Enter the operation you want to perform: append\n",
            "Enter how many data you want to enter: 2\n",
            "Enter the data: 2\n",
            "Enter the data: 4\n",
            "['2', '4']\n"
          ]
        }
      ]
    },
    {
      "cell_type": "code",
      "source": [
        "class Car:\n",
        "  total_car=0\n",
        "  def __init__(self,brand,model):\n",
        "    self.brand = brand\n",
        "    self.model = model\n",
        "    Car.total_car+=1\n",
        "\n",
        "  def full_name(self):\n",
        "    return f\"{self.brand} {self.model}\"\n",
        "\n",
        "  def fuel_type(self):\n",
        "    return f\"Diesel or Petrol\"\n",
        "\n",
        "class ElectricCar(Car):\n",
        "  def __init__(self,brand,model,battery_size):\n",
        "    super().__init__(brand,model)\n",
        "    self.battery_size = battery_size\n",
        "\n",
        "  def fuel_type(self):\n",
        "    return f\"Electric charge\"\n",
        "\n",
        "my_tesla=ElectricCar('Telsa','S','75kwh')\n",
        "print(my_tesla.fuel_type())\n",
        "\n",
        "my_car=Car('Hundai','Civic')\n",
        "print(my_car.fuel_type())\n",
        "\n",
        "Car.total_car\n"
      ],
      "metadata": {
        "colab": {
          "base_uri": "https://localhost:8080/"
        },
        "id": "BjaRFlbSmcAO",
        "outputId": "3307004f-a243-4f1e-959a-5d5c111f6c3e"
      },
      "execution_count": null,
      "outputs": [
        {
          "output_type": "stream",
          "name": "stdout",
          "text": [
            "Electric charge\n",
            "Diesel or Petrol\n"
          ]
        },
        {
          "output_type": "execute_result",
          "data": {
            "text/plain": [
              "2"
            ]
          },
          "metadata": {},
          "execution_count": 9
        }
      ]
    },
    {
      "cell_type": "code",
      "source": [
        "class Person:\n",
        "  name = 'I have no name'\n",
        "  def sayName(self):\n",
        "    print('My name is',self.name)\n",
        "\n",
        "def main():\n",
        "  aPerson=Person()\n",
        "  aPerson.sayName()\n",
        "  aPerson.name='Usman'\n",
        "  aPerson.sayName()\n",
        "\n",
        "main()"
      ],
      "metadata": {
        "colab": {
          "base_uri": "https://localhost:8080/"
        },
        "id": "xLuCZ6X3wJ_S",
        "outputId": "d5588c34-f498-4b1f-fdc6-4f1211572bfe"
      },
      "execution_count": null,
      "outputs": [
        {
          "output_type": "stream",
          "name": "stdout",
          "text": [
            "My name is I have no name\n",
            "My name is Usman\n"
          ]
        }
      ]
    },
    {
      "cell_type": "code",
      "source": [
        "class Client:\n",
        "  name = 'default'\n",
        "  phone = '0283000'\n",
        "  email = 'usman@3933'\n",
        "  purchases = 0\n",
        "\n",
        "def main():\n",
        "  first_client = Client()\n",
        "  first_client.name = 'Ali'\n",
        "  print(first_client.name)\n",
        "  print(first_client.phone)\n",
        "  print(first_client.email)\n",
        "\n",
        "\n",
        "main()\n",
        "\n"
      ],
      "metadata": {
        "colab": {
          "base_uri": "https://localhost:8080/"
        },
        "id": "qvimhG--z73i",
        "outputId": "dac53f42-58a2-4069-8a91-3a9c6d4612af"
      },
      "execution_count": null,
      "outputs": [
        {
          "output_type": "stream",
          "name": "stdout",
          "text": [
            "Ali\n",
            "0283000\n",
            "usman@3933\n"
          ]
        }
      ]
    },
    {
      "cell_type": "code",
      "source": [
        "class Person:\n",
        "  name = 'I have no name'\n",
        "  def sayName(self):\n",
        "    print('My name is',self.name)\n",
        "\n",
        "def main():\n",
        "  lisa = Person()\n",
        "  lisa.name = 'Lisa, Pleased to meet you'\n",
        "  usman = Person()\n",
        "  usman.name = 'Ali usman, Who the hek are you?'\n",
        "\n",
        "  lisa.sayName()\n",
        "  usman.sayName()\n",
        "\n",
        "main()"
      ],
      "metadata": {
        "colab": {
          "base_uri": "https://localhost:8080/"
        },
        "id": "x0il6ykx2Pff",
        "outputId": "4e5c2508-180b-4533-af67-fd08ad408287"
      },
      "execution_count": null,
      "outputs": [
        {
          "output_type": "stream",
          "name": "stdout",
          "text": [
            "My name is Lisa, Pleased to meet you\n",
            "My name is Ali usman, Who the hek are you?\n"
          ]
        }
      ]
    },
    {
      "cell_type": "code",
      "source": [
        "class BankAccount:\n",
        "\n",
        "  def __init__(self,account_number,account_holder,balance):\n",
        "    self.account_number = account_number\n",
        "    self.account_holder = account_holder\n",
        "    self.balance = balance\n",
        "\n",
        "  def deposit(self,amount):\n",
        "    self.amount = amount\n",
        "    self.balance += self.amount\n",
        "    print('Balance is:',self.balance)\n",
        "\n",
        "  def withdraw(self):\n",
        "    self.amount2 = 100\n",
        "    if self.amount2<self.balance:\n",
        "      self.balance -= self.amount2\n",
        "      print('Balance is:',self.balance)\n",
        "    else:\n",
        "      print('Not Sufficient Balance')\n",
        "\n",
        "  def get_balance(self):\n",
        "    print('--------------------------------')\n",
        "    print('Balance is:',self.balance)\n",
        "\n",
        "account1 = BankAccount(1233,'Usman',100)\n",
        "print(account1.account_holder)\n",
        "account1.deposit(1000)\n",
        "account1.withdraw()\n",
        "account1.get_balance()\n",
        "\n",
        "account2 = BankAccount(3412,'ali',0)\n",
        "account2.deposit(2000)\n",
        "account2.withdraw()"
      ],
      "metadata": {
        "colab": {
          "base_uri": "https://localhost:8080/"
        },
        "id": "A56QcDH3_iwG",
        "outputId": "e8ef863a-daac-4170-b869-bcf0f6fccaed"
      },
      "execution_count": null,
      "outputs": [
        {
          "output_type": "stream",
          "name": "stdout",
          "text": [
            "Usman\n",
            "Balance is: 1100\n",
            "Balance is: 1000\n",
            "--------------------------------\n",
            "Balance is: 1000\n",
            "Balance is: 2000\n",
            "Balance is: 1900\n"
          ]
        }
      ]
    },
    {
      "cell_type": "code",
      "source": [
        "class Rectangle:\n",
        "\n",
        "  def __init__(self,lenght,width):\n",
        "    self.lenght = lenght\n",
        "    self.width = width\n",
        "\n",
        "  def get_area(self):\n",
        "    self.area = self.lenght*self.width\n",
        "    print(f'Area is {self.area}')\n",
        "\n",
        "  def get_perimeter(self):\n",
        "    self.perimeter = 2*(self.lenght+self.width)\n",
        "    print(f'Perimeter is {self.perimeter}')\n",
        "\n",
        "  def is_square(self):\n",
        "    if self.lenght==self.width:\n",
        "      print('It is a square')\n",
        "    else:\n",
        "      print('It is not a square')\n",
        "\n",
        "rect = Rectangle(4,5)\n",
        "rect.get_area()\n",
        "rect.get_perimeter()\n",
        "rect.is_square()"
      ],
      "metadata": {
        "colab": {
          "base_uri": "https://localhost:8080/"
        },
        "id": "0PywNRjqDBrP",
        "outputId": "3fa52c5e-713d-438d-e10d-cdeb9faf9f33"
      },
      "execution_count": null,
      "outputs": [
        {
          "output_type": "stream",
          "name": "stdout",
          "text": [
            "Area is 20\n",
            "Perimeter is 18\n",
            "It is not a square\n"
          ]
        }
      ]
    },
    {
      "cell_type": "code",
      "source": [
        "class Student:\n",
        "  def __init__(self,name,grades):\n",
        "    self.name = name\n",
        "    self.grades = grades\n",
        "\n",
        "  def add_grade(self,new_grd):\n",
        "     self.grades.append(new_grd)\n",
        "\n",
        "\n",
        "  def get_avg_grades(self):\n",
        "    avg = sum(self.grades)/len(self.grades)\n",
        "    print(avg)\n",
        "\n",
        "  def get_highest_grade(self):\n",
        "    highest = max(self.grades)\n",
        "    print(highest)\n",
        "\n",
        "student = Student('Usman',[90,80,95])\n",
        "student.add_grade(92)\n",
        "student.get_avg_grades()\n",
        "student.get_highest_grade()\n",
        "\n"
      ],
      "metadata": {
        "colab": {
          "base_uri": "https://localhost:8080/"
        },
        "id": "RyE8L2GTD5Dn",
        "outputId": "a21b771a-8d24-4e8a-9ac8-b3b92639a65f"
      },
      "execution_count": null,
      "outputs": [
        {
          "output_type": "stream",
          "name": "stdout",
          "text": [
            "89.25\n",
            "95\n"
          ]
        }
      ]
    },
    {
      "cell_type": "code",
      "source": [
        "class Car:\n",
        "  def __init__(self,make,model,year,mileage):\n",
        "    self.make = make\n",
        "    self.model = model\n",
        "    self.year = year\n",
        "    self.mileage = mileage\n",
        "\n",
        "  def drive(self,inc_mileage):\n",
        "    self.mileage += inc_mileage\n",
        "\n",
        "  def get_mileage(self):\n",
        "    print(self.mileage)\n",
        "\n",
        "  def get_age(self):\n",
        "    age = 2024-self.year\n",
        "    print(age)\n",
        "\n",
        "car = Car('Hundai','civic',2015,3000)\n",
        "car.drive(1000)\n",
        "car.get_mileage()\n",
        "car.get_age()"
      ],
      "metadata": {
        "colab": {
          "base_uri": "https://localhost:8080/"
        },
        "id": "NsBNC_bHGNSj",
        "outputId": "4b04e363-fb51-467e-998f-fe0c60ae6b28"
      },
      "execution_count": null,
      "outputs": [
        {
          "output_type": "stream",
          "name": "stdout",
          "text": [
            "4000\n",
            "9\n"
          ]
        }
      ]
    },
    {
      "cell_type": "code",
      "source": [
        "class LibraryBook:\n",
        "  def __init__(self,title,author,checked_out):\n",
        "    self.title = title\n",
        "    self.author = author\n",
        "    self.checked_out = checked_out\n",
        "\n",
        "  def check_out(self):\n",
        "    self.check_out = True\n",
        "\n",
        "  def check_in(self):\n",
        "    self.check_out = False\n",
        "\n",
        "  def is_available(self):\n",
        "    if not self.check_out:\n",
        "      print(True)\n",
        "    else:\n",
        "      print(False)\n",
        "\n",
        "book = LibraryBook('To kill','Lee',False)\n",
        "print(book.is_available())\n",
        "book.check_out()\n",
        "print(book.is_available())\n",
        "book.check_in()\n",
        "print(book.is_available())\n"
      ],
      "metadata": {
        "colab": {
          "base_uri": "https://localhost:8080/"
        },
        "id": "8KIXoPuDJFDN",
        "outputId": "71584775-c092-41df-813d-9b57f488eca9"
      },
      "execution_count": null,
      "outputs": [
        {
          "output_type": "stream",
          "name": "stdout",
          "text": [
            "False\n",
            "None\n",
            "False\n",
            "None\n",
            "True\n",
            "None\n"
          ]
        }
      ]
    },
    {
      "cell_type": "code",
      "source": [
        "class Person:\n",
        "  name = ''\n",
        "  def __init__(self,name = 'I have no name'):\n",
        "    self.name = name\n",
        "\n",
        "\n"
      ],
      "metadata": {
        "id": "yzYdBjNo1xfG"
      },
      "execution_count": null,
      "outputs": []
    }
  ]
}